{
 "cells": [
  {
   "attachments": {},
   "cell_type": "markdown",
   "metadata": {},
   "source": [
    "# Data Science summatieve opdracht\n",
    "BD04 - Data Science | Blok 2 2022-2023\n",
    "\n",
    "Deze opdracht is gemaakt door Finn Alberts en Laurent Dassen. Er is gebruik gemaakt van een dataset met informatie over de verschillende Pokémons. Deze is opgehaald van: https://www.kaggle.com/datasets/rounakbanik/pokemon."
   ]
  },
  {
   "attachments": {},
   "cell_type": "markdown",
   "metadata": {},
   "source": [
    "## Beschrijving van de dataset\n",
    "De dataset bestaat uit 801 Pokémons. De dataset bevat de volgende kolommen:\n",
    "- `name`: De Engelse naam van de Pokémon.\n",
    "- `japanese_name`: De originele Japanse naam van de Pokémon.\n",
    "- `pokedex_number`: Het nummer van de Pokémon in de Pokédex.\n",
    "- `percentage_male`: Het percentage mannelijke Pokémon. Als Pokémon geen geslacht hebben, is dit veld leeg.\n",
    "- `type1`: Het primaire type van de Pokémon.\n",
    "- `type2`: Het secundaire type van de Pokémon. Als Pokémon maar één type hebben, is dit veld leeg.\n",
    "- `classification`: De classificatie van de Pokémon volgens de Pokédex van Pokémon Sun en Moon.\n",
    "- `height_m`: De hoogte van de Pokémon in meters.\n",
    "- `weight_kg`: Het gewicht van de Pokémon in kilogram.\n",
    "- `capture_rate`: De kans dat een Pokémon wordt gevangen.\n",
    "- `baseeggsteps`: Het aantal stappen dat nodig is om een ei van deze Pokémon te laten uitkomen.\n",
    "- `abilities`: De vaardigheden van de Pokémon.\n",
    "- `experience_growth`: De experience growth van de Pokémon.\n",
    "- `base_happiness`: De base happiness van de Pokémon. Dit geeft aan hoe goed te band tussen de trainer en de Pokémon is.\n",
    "- `against_?`: De effectiviteit van de Pokémon tegen de verschillende types. De vraagtekens worden vervangen door de type namen.\n",
    "- `hp`: Het aantal health points (HP) van de Pokémon.\n",
    "- `attack`: De attack van de Pokémon.\n",
    "- `defense`: De defense van de Pokémon.\n",
    "- `sp_attack`: De special attack van de Pokémon.\n",
    "- `sp_defense`: De special defense van de Pokémon.\n",
    "- `speed`: De speed van de Pokémon.\n",
    "- `generation`: De generatie waarin de Pokémon is verschenen.\n",
    "- `base_total`: De som van `attack`, `hp`, `defense`, `sp_attack`, `sp_defense` en `speed`.\n",
    "- `is_legendary`: Of de Pokémon legendarisch is of niet. 0 betekent dat de Pokémon niet legendarisch is, 1 betekent dat de Pokémon wel legendarisch is."
   ]
  },
  {
   "cell_type": "code",
   "execution_count": 71,
   "metadata": {},
   "outputs": [],
   "source": [
    "# Import all required libraries\n",
    "import pandas as pd\n",
    "import numpy as np\n",
    "import matplotlib.pyplot as plt\n",
    "from sklearn.linear_model import LinearRegression, LogisticRegression\n",
    "from sklearn.model_selection import train_test_split, cross_val_score, KFold\n",
    "from sklearn.metrics import confusion_matrix, precision_score, recall_score, accuracy_score\n",
    "from sklearn.ensemble import RandomForestClassifier\n",
    "from sklearn.neural_network import MLPClassifier\n",
    "from sklearn.exceptions import UndefinedMetricWarning\n",
    "\n",
    "# Hide warnings\n",
    "def warn(*args, **kwargs):\n",
    "    pass\n",
    "import warnings\n",
    "warnings.warn = warn"
   ]
  },
  {
   "attachments": {},
   "cell_type": "markdown",
   "metadata": {},
   "source": [
    "## Data preparatie\n",
    "Data preparatie is een belangrijk onderdeel van data science omdat het zorgt voor een grondige voorbereiding van de gegevens voor analyse. Dit omvat het opschonen en transformeren van de gegevens om ervoor te zorgen dat ze bruikbaar zijn voor het gewenste doel. Bijvoorbeeld, als de gegevens onvolledig of onjuist zijn, kan dit leiden tot onnauwkeurige of onbetrouwbare resultaten. Door de gegevens te prepareren, kan ervoor worden gezorgd dat de gegevens klaar zijn voor analyse en dat ze betrouwbare en nauwkeurige resultaten kunnen produceren. Data preparatie is dus essentieel om ervoor te zorgen dat data science-projecten succesvol zijn en dat ze waardevolle inzichten en voorspellingen kunnen produceren.\n",
    "\n",
    "De Pokémon dataset is een relatief goede dataset, waarvoor slechts weinig preparatie nodig is. De volgende stappen zijn uitgevoerd:\n",
    "1) Een aantal Pokémon hebben geen geslacht. De kolom `percentage_male` is dan leeg. De waardes in deze kolom zijn vervangen door een waarde `None`.\n",
    "2) Voor een twintigtal Pokémon is er geen gewicht en lengte bekend. Deze waardes zijn gevuld met de gemiddelde lengte en gewicht van Pokémon.\n",
    "3) Sommige Pokémon hebben slechts één type. De waardes in de kolom `type_2` zijn dan leeg. Deze waardes zijn vervangen door een waarde `None`.\n",
    "4) Er is één enkele Pokémon die twee verschillende capture rates heeft. De waardes in de kolom `capture_rate` zijn vervangen door de gemiddelde capture rate van Pokémon."
   ]
  },
  {
   "cell_type": "code",
   "execution_count": 72,
   "metadata": {},
   "outputs": [],
   "source": [
    "# Read pokemon.csv using pandas\n",
    "pokemon = pd.read_csv('pokemon.csv')\n",
    "\n",
    "# Fill percentage male values with None where percentage is null\n",
    "pokemon['percentage_male'] = pokemon['percentage_male'].fillna('None')\n",
    "\n",
    "# Fill height_m en weight_kg with mean values where height_m or weight_kg is null\n",
    "pokemon['height_m'] = pokemon['height_m'].fillna(pokemon['height_m'].mean())\n",
    "pokemon['weight_kg'] = pokemon['weight_kg'].fillna(pokemon['weight_kg'].mean())\n",
    "\n",
    "# Fill type2 with None where type2 is null\n",
    "pokemon['type2'] = pokemon['type2'].fillna('None')\n",
    "\n",
    "# Replace non-numeric values in capture_rate with the mean of the column\n",
    "pokemon['capture_rate'] = pd.to_numeric(pokemon['capture_rate'], errors='coerce')\n",
    "pokemon['capture_rate'] = pokemon['capture_rate'].fillna(pokemon['capture_rate'].mean())"
   ]
  },
  {
   "attachments": {},
   "cell_type": "markdown",
   "metadata": {},
   "source": [
    "## Multiple Linear Regression\n",
    "Multiple linear regression is een statistische techniek die wordt gebruikt om het verband tussen één of meer onafhankelijke variabelen en één afhankelijke variabele te onderzoeken. In tegenstelling tot simpele lineaire regressie, waarbij er slechts één onafhankelijke variabele is, maakt multiple linear regression gebruik van meerdere onafhankelijke variabelen om de afhankelijke variabele te voorspellen. De techniek maakt gebruik van een lineaire vergelijking om de relatie tussen de variabelen te modelleren en kan worden gebruikt om een breed scala aan problemen op te lossen, waaronder voorspellingen van verkopen, niveaus van inkomen en andere zakelijke toepassingen. \n",
    "\n",
    "De formule voor multiple linear regression is als volgt: $$ Y = \\beta_0 + \\beta_1 X_1 + \\beta_2 X_2 + \\dots + \\beta_n X_n $$\n",
    "\n",
    "Voor de Pokémon-dataset worden `hp` (health points) en `height_m` (de hoogte in meters) als onafhankelijke variabelen gebruikt en `weight_kg` (het gewicht in kilogram) als afhankelijke variabele. Dat wil zeggen: het gewicht van de Pokémon proberen te voorspellen aan de hand van de hoogte en het aantal health points. "
   ]
  },
  {
   "cell_type": "code",
   "execution_count": 73,
   "metadata": {},
   "outputs": [
    {
     "name": "stdout",
     "output_type": "stream",
     "text": [
      "Mean R^2 using cross validation: 0.3671296149700315\n",
      "Standard deviation for R^2 using cross validation: 0.18675196824344403\n",
      "Mean RMSE using cross validation: -80.1817838251546\n",
      "Standard deviation for RMSE using cross validation: 27.1876625617707\n"
     ]
    },
    {
     "data": {
      "image/png": "[encoded data removed]",
      "text/plain": [
       "<Figure size 640x480 with 1 Axes>"
      ]
     },
     "metadata": {},
     "output_type": "display_data"
    }
   ],
   "source": [
    "# Create a LinearRegression model\n",
    "model = LinearRegression()\n",
    "\n",
    "# Create X and y\n",
    "X = pokemon[['hp', 'height_m']]\n",
    "y = pokemon['weight_kg']\n",
    "\n",
    "# Split the data into train and test sets\n",
    "X_train, X_test, y_train, y_test = train_test_split(X, y, test_size=0.1, random_state=1)\n",
    "\n",
    "# Fit the model to the training data\n",
    "model.fit(X_train, y_train)\n",
    "\n",
    "# Create a KFold object with 10 splits\n",
    "kf = KFold(n_splits=10, shuffle=True, random_state=0)\n",
    "\n",
    "# Use cross_val_score to perform cross validation for R^2 and train the model\n",
    "scores = cross_val_score(model, X, y, scoring='r2', cv=kf)\n",
    "\n",
    "# Calculate the mean and standard deviation of the scores\n",
    "print(\"Mean R^2 using cross validation:\", np.mean(scores))\n",
    "print(\"Standard deviation for R^2 using cross validation:\", np.std(scores))\n",
    "\n",
    "# Use cross_val_score to perform cross validation for RMSE and train the model\n",
    "scores = cross_val_score(model, X, y, scoring='neg_root_mean_squared_error', cv=kf)\n",
    "\n",
    "# Calculate the mean and standard deviation of the scores\n",
    "print(\"Mean RMSE using cross validation:\", np.mean(scores))\n",
    "print(\"Standard deviation for RMSE using cross validation:\", np.std(scores))\n",
    "\n",
    "# Predict on the test data: y_pred\n",
    "y_pred = model.predict(X_test)\n",
    "\n",
    "# Plot the predicted values against the actual values\n",
    "plt.scatter(y_pred, y_test)\n",
    "plt.xlabel('Predicted')\n",
    "plt.ylabel('Actual')\n",
    "\n",
    "# Draw a line to show the best fit\n",
    "plt.plot([0, 400], [0, 400], 'r')\n",
    "\n",
    "# Show the plot\n",
    "plt.show()"
   ]
  },
  {
   "attachments": {},
   "cell_type": "markdown",
   "metadata": {},
   "source": [
    "Zoals hierboven te zien is, is de root mean squared error (RMSE) gemiddeld -80. Dit betekent dat de voorspellingen gemiddeld 80 kilogram van het werkelijke gewicht afzitten. Dit is een relatief groot foutmarge. Als we kijken naar de r^2-score, zien we dat deze 0,37 is. Dit betekent dat de voorspellingen slechts 37% van de variatie in het gewicht van de Pokémon kunnen verklaren. Over het algemeen wordt gezegd dat waardes boven de 0,80 goed zijn, waardes tussen de 0,60 en 0,80 redelijk en waardes onder de 0,60 slecht zijn.\n",
    "\n",
    "Daarnaast is hierboven een grafiek te zien, die de voorspelde waardes uitzet tegen de werkelijke waardes. Iedere punt in deze grafiek geeft een voorspelling weer. Bij een perfecte voorspelling zouden de punten op de rode lijn liggen.\n",
    "\n",
    "Het is mogelijk het model te verbeteren, door meer parameters te gebruiken. Hieronder is een voorbeeld te zien van multiple linear regression, waarbij meer features worden gebruikt. De extra features die worden toegevoegd zijn `speed`, `attack`, `defense`, `sp_attack` en `sp_defense`. Er is te zien dat de score voor de RMSE en de R^2-score een klein beetje beter is dan bij de eerste multiple linear regression. "
   ]
  },
  {
   "cell_type": "code",
   "execution_count": 74,
   "metadata": {},
   "outputs": [
    {
     "name": "stdout",
     "output_type": "stream",
     "text": [
      "Mean R^2 using cross validation: 0.37752095519837675\n",
      "Standard deviation for R^2 using cross validation: 0.18506708328705854\n",
      "Mean RMSE using cross validation: -78.99196086880741\n",
      "Standard deviation for RMSE using cross validation: 24.963982309937485\n"
     ]
    },
    {
     "data": {
      "image/png": "[encoded data removed]",
      "text/plain": [
       "<Figure size 640x480 with 1 Axes>"
      ]
     },
     "metadata": {},
     "output_type": "display_data"
    }
   ],
   "source": [
    "# Create a LinearRegression model\n",
    "model = LinearRegression()\n",
    "\n",
    "# Create X and y\n",
    "X = pokemon[['hp', 'height_m', 'speed', 'attack', 'defense', 'sp_attack', 'sp_defense']]\n",
    "y = pokemon['weight_kg']\n",
    "\n",
    "# Split the data into train and test sets\n",
    "X_train, X_test, y_train, y_test = train_test_split(X, y, test_size=0.1, random_state=1)\n",
    "\n",
    "# Fit the model to the training data\n",
    "model.fit(X_train, y_train)\n",
    "\n",
    "# Create a KFold object with 10 splits\n",
    "kf = KFold(n_splits=10, shuffle=True, random_state=0)\n",
    "\n",
    "# Use cross_val_score to perform cross validation for R^2 and train the model\n",
    "scores = cross_val_score(model, X, y, scoring='r2', cv=kf)\n",
    "\n",
    "# Calculate the mean and standard deviation of the scores\n",
    "print(\"Mean R^2 using cross validation:\", np.mean(scores))\n",
    "print(\"Standard deviation for R^2 using cross validation:\", np.std(scores))\n",
    "\n",
    "# Use cross_val_score to perform cross validation for RMSE and train the model\n",
    "scores = cross_val_score(model, X, y, scoring='neg_root_mean_squared_error', cv=kf)\n",
    "\n",
    "# Calculate the mean and standard deviation of the scores\n",
    "print(\"Mean RMSE using cross validation:\", np.mean(scores))\n",
    "print(\"Standard deviation for RMSE using cross validation:\", np.std(scores))\n",
    "\n",
    "# Predict on the test data: y_pred\n",
    "y_pred = model.predict(X_test)\n",
    "\n",
    "# Plot the predicted values against the actual values\n",
    "plt.scatter(y_pred, y_test)\n",
    "plt.xlabel('Predicted')\n",
    "plt.ylabel('Actual')\n",
    "\n",
    "# Draw a line to show the best fit\n",
    "plt.plot([0, 400], [0, 400], 'r')\n",
    "\n",
    "# Show the plot\n",
    "plt.show()"
   ]
  },
  {
   "attachments": {},
   "cell_type": "markdown",
   "metadata": {},
   "source": [
    "Zoals eerder genoemd, zijn bovenstaande waardes dus iets beter als de waardes, waarbij minder features zijn gebruikt."
   ]
  },
  {
   "attachments": {},
   "cell_type": "markdown",
   "metadata": {},
   "source": [
    "## Logistic Regression\n",
    "Logistic regression is een statistische techniek die wordt gebruikt om de relatie tussen één of meer onafhankelijke variabelen en een afhankelijke variabele te onderzoeken. In tegenstelling tot lineaire regressie, waarbij de afhankelijke variabele een continue waarde kan hebben, heeft de afhankelijke variabele in logistische regressie altijd twee mogelijke waarden (bijvoorbeeld \"ja\" of \"nee\", \"man\" of \"vrouw\", enz.). De techniek maakt gebruik van een logistische functie om de relatie tussen de variabelen te modelleren en kan worden gebruikt om problemen op te lossen waarbij de afhankelijke variabele een binair karakter heeft. \n",
    "\n",
    "Voor Pokémon wordt logistic regression gebruikt om te voorspellen of een Pokémon legendary is of niet. Hiervoor worden de features `hp`, `attack`, `defense`, `sp_attack`, `sp_defense` en `speed` gebruikt."
   ]
  },
  {
   "cell_type": "code",
   "execution_count": 75,
   "metadata": {},
   "outputs": [
    {
     "name": "stdout",
     "output_type": "stream",
     "text": [
      "Confusion matrix for a single model\n",
      "                      Predicted Not Legendary  Predicted Legendary\n",
      "Actual Not Legendary                       67                    2\n",
      "Actual Legendary                            6                    6\n",
      "\n",
      "Metrics for Logistic Regression Model using cross validation\n",
      "Mean precision using cross validation: 0.6488095238095238\n",
      "Standard deviation for precision using cross validation: 0.17449717200731005\n",
      "Mean recall using cross validation: 0.41920634920634914\n",
      "Standard deviation for recall using cross validation: 0.1310772853095145\n",
      "Mean accuracy using cross validation: 0.9288734567901233\n",
      "Standard deviation for accuracy using cross validation: 0.02425594584383691\n"
     ]
    }
   ],
   "source": [
    "# Create a LogisticRegression model\n",
    "model = LogisticRegression(random_state=1)\n",
    "\n",
    "# Create X and y\n",
    "X = pokemon[['hp', 'attack', 'defense', 'sp_attack', 'sp_defense', 'speed']]\n",
    "y = pokemon['is_legendary']\n",
    "\n",
    "# Split the data into train and test sets\n",
    "X_train, X_test, y_train, y_test = train_test_split(X, y, test_size=0.1, random_state=1)\n",
    "\n",
    "# Fit the model to the training data\n",
    "model.fit(X_train, y_train)\n",
    "\n",
    "# Predict on the test data: y_pred\n",
    "y_pred = model.predict(X_test)\n",
    "\n",
    "# Create a confusion matrix\n",
    "cm = confusion_matrix(y_test, y_pred)\n",
    "\n",
    "# Print the confusion matrix with labels for prediction and actual values\n",
    "print(\"Confusion matrix for a single model\")\n",
    "print(pd.DataFrame(cm, index=['Actual Not Legendary', 'Actual Legendary'], columns=['Predicted Not Legendary', 'Predicted Legendary']))\n",
    "\n",
    "# Calculate the precision, recall and accuracy of the model\n",
    "\n",
    "# Print a header\n",
    "print('\\nMetrics for Logistic Regression Model using cross validation')\n",
    "\n",
    "# Create a KFold object with 10 splits\n",
    "kf = KFold(n_splits=10, shuffle=True, random_state=0)\n",
    "\n",
    "# Use cross_val_score to perform cross validation for precision and train the model\n",
    "scores = cross_val_score(model, X, y, scoring='precision', cv=kf)\n",
    "\n",
    "# Calculate the mean and standard deviation of the scores\n",
    "print(\"Mean precision using cross validation:\", np.mean(scores))\n",
    "print(\"Standard deviation for precision using cross validation:\", np.std(scores))\n",
    "\n",
    "# Use cross_val_score to perform cross validation for recall and train the model\n",
    "scores = cross_val_score(model, X, y, scoring='recall', cv=kf)\n",
    "\n",
    "# Calculate the mean and standard deviation of the scores\n",
    "print(\"Mean recall using cross validation:\", np.mean(scores))\n",
    "print(\"Standard deviation for recall using cross validation:\", np.std(scores))\n",
    "\n",
    "# Use cross_val_score to perform cross validation for accuracy and train the model\n",
    "scores = cross_val_score(model, X, y, scoring='accuracy', cv=kf)\n",
    "\n",
    "# Calculate the mean and standard deviation of the scores\n",
    "print(\"Mean accuracy using cross validation:\", np.mean(scores))\n",
    "print(\"Standard deviation for accuracy using cross validation:\", np.std(scores))"
   ]
  },
  {
   "attachments": {},
   "cell_type": "markdown",
   "metadata": {},
   "source": [
    "Zoals hierboven te zien is, is dit een relatief goede voorspelling. De accuracy is 0,93. Dit betekent dat de voorspellingen 93% van de tijd correct zijn. De precision is 0,65. Dit betekent dat van alle voorspellingen, waarbij de Pokémon legendary zou zijn volgens het model, dit 65% van de tijd correct werd voorspeld. De recall is 0,42. Dit betekent dat van alle legendary Pokémon die in de dataset zitten, 42% correct zijn voorspeld.\n",
    "\n",
    "Deze voorspellingswaardes lijken op het eerste gezicht best goed. Echter is de recall relatief laaag. Dit is te verklaren, doordat er slechts een klein aantal legendary Pokémon is. Doordat het model vaak een Pokémon als niet legendary voorspelt, is de recall laag. Maar omdat er relatief weinig legendary Pokémon zijn, voorspelt het model het vaak goed.\n",
    "\n",
    "Hieronder is een voorbeeld te zien van logistic regression, waarbij minder features worden gebruikt. Er wordt nu enkel nog gebruikt gemaakt van `hp`, `sp_attack` en `sp_defense`. "
   ]
  },
  {
   "cell_type": "code",
   "execution_count": 76,
   "metadata": {},
   "outputs": [
    {
     "name": "stdout",
     "output_type": "stream",
     "text": [
      "Confusion matrix for a single model\n",
      "                      Predicted Not Legendary  Predicted Legendary\n",
      "Actual Not Legendary                       69                    0\n",
      "Actual Legendary                            9                    3\n",
      "\n",
      "Metrics for Logistic Regression Model using cross validation\n",
      "Mean precision using cross validation: 0.7166666666666667\n",
      "Standard deviation for precision using cross validation: 0.3077697552103231\n",
      "Mean recall using cross validation: 0.31202380952380954\n",
      "Standard deviation for recall using cross validation: 0.16720020892315168\n",
      "Mean accuracy using cross validation: 0.9276697530864197\n",
      "Standard deviation for accuracy using cross validation: 0.025679591970250874\n"
     ]
    }
   ],
   "source": [
    "# Create a LogisticRegression model\n",
    "model = LogisticRegression(random_state=1)\n",
    "\n",
    "# Create X and y\n",
    "X = pokemon[['hp', 'sp_attack', 'sp_defense']]\n",
    "y = pokemon['is_legendary']\n",
    "\n",
    "# Split the data into train and test sets\n",
    "X_train, X_test, y_train, y_test = train_test_split(X, y, test_size=0.1, random_state=1)\n",
    "\n",
    "# Fit the model to the training data\n",
    "model.fit(X_train, y_train)\n",
    "\n",
    "# Predict on the test data: y_pred\n",
    "y_pred = model.predict(X_test)\n",
    "\n",
    "# Create a confusion matrix\n",
    "cm = confusion_matrix(y_test, y_pred)\n",
    "\n",
    "# Print the confusion matrix with labels for prediction and actual values\n",
    "print(\"Confusion matrix for a single model\")\n",
    "print(pd.DataFrame(cm, index=['Actual Not Legendary', 'Actual Legendary'], columns=['Predicted Not Legendary', 'Predicted Legendary']))\n",
    "\n",
    "# Calculate the precision, recall and accuracy of the model\n",
    "\n",
    "# Print a header\n",
    "print('\\nMetrics for Logistic Regression Model using cross validation')\n",
    "\n",
    "# Create a KFold object with 10 splits\n",
    "kf = KFold(n_splits=10, shuffle=True, random_state=0)\n",
    "\n",
    "# Use cross_val_score to perform cross validation for precision and train the model\n",
    "scores = cross_val_score(model, X, y, scoring='precision', cv=kf)\n",
    "\n",
    "# Calculate the mean and standard deviation of the scores\n",
    "print(\"Mean precision using cross validation:\", np.mean(scores))\n",
    "print(\"Standard deviation for precision using cross validation:\", np.std(scores))\n",
    "\n",
    "# Use cross_val_score to perform cross validation for recall and train the model\n",
    "scores = cross_val_score(model, X, y, scoring='recall', cv=kf)\n",
    "\n",
    "# Calculate the mean and standard deviation of the scores\n",
    "print(\"Mean recall using cross validation:\", np.mean(scores))\n",
    "print(\"Standard deviation for recall using cross validation:\", np.std(scores))\n",
    "\n",
    "# Use cross_val_score to perform cross validation for accuracy and train the model\n",
    "scores = cross_val_score(model, X, y, scoring='accuracy', cv=kf)\n",
    "\n",
    "# Calculate the mean and standard deviation of the scores\n",
    "print(\"Mean accuracy using cross validation:\", np.mean(scores))\n",
    "print(\"Standard deviation for accuracy using cross validation:\", np.std(scores))"
   ]
  },
  {
   "attachments": {},
   "cell_type": "markdown",
   "metadata": {},
   "source": [
    "Zoals hierboven te zien is, zorgen meer features hier voor een hogere precision en accuracy, maar voor een lagere recall. Wanneer `attack` en `defense` niet mee worden genomen, voorspelt het model veel minder vaak een Pokémon als legendary. Daardoor is de recall lager, maar de precision en accuracy hoger."
   ]
  },
  {
   "attachments": {},
   "cell_type": "markdown",
   "metadata": {},
   "source": [
    "# Decision Trees en Random Forests\n",
    "Decision trees zijn een veelgebruikte data science techniek. Het is een methode voor het maken van voorspellingen door het splitsen van de dataset in verschillende groepen. De splitsingen worden gemaakt op basis van de waardes van de features, waarbij wordt geprobeerd om de groepen zo accuraat mogelijk te splitsen. Voor het bepalen van de splitsingen wordt gebruik gemaakt van een algoritme, dat de splitsingen bepaalt op basis van de gini-index. De gini-index is een maat voor de mate van ongelijkheid in een groep. Hoe lager de gini-index, hoe meer gelijkheid er is in de groep. De formule voor de gini-index is als volgt: $$ Gini = 1 - \\sum_{i=1}^n p_i^2 $$\n",
    "\n",
    "Random Forests zijn een verbeterde versie van decision trees. Bij random forests worden meerdere decision trees gemaakt, waarbij bij het maken van de trees steeds een willekeurige subset van de features wordt gebruikt. Daarnaast wordt voor het maken van deze decision trees steeds een bootstrapped dataset gebruikt. Dit is een dataset, waarbij random samples uit de originele dataset worden gepakt. De bootstrapped dataset is even groot als de originele dataset, maar kan samples dubbel bevatten. Gemiddeld gezien bevat een bootstrapped dataset 2/3 van de originele samples van de dataset. Hierdoor wordt voorkomen dat de trees te veel op elkaar lijken. De voorspellingen van de trees worden vervolgens gemiddeld, waardoor de voorspellingen van de random forest beter zijn dan die van de decision trees.\n",
    "\n",
    "Voor Pokémon wordt gebruik gemaakt van random forests om te voorspellen of een Pokémon legendary is of niet. Hiervoor worden `hp`, `attack`, `defense`, `sp_attack`, `sp_defense`, `speed` gebruikt."
   ]
  },
  {
   "cell_type": "code",
   "execution_count": 77,
   "metadata": {},
   "outputs": [
    {
     "name": "stdout",
     "output_type": "stream",
     "text": [
      "Confusion matrix for a single model\n",
      "                      Predicted Not Legendary  Predicted Legendary\n",
      "Actual Not Legendary                       68                    1\n",
      "Actual Legendary                            8                    4\n",
      "\n",
      "Metrics for Random Forest Model using cross validation\n",
      "Mean precision using cross validation: 0.725\n",
      "Standard deviation for precision using cross validation: 0.18442854683830506\n",
      "Mean recall using cross validation: 0.43460317460317455\n",
      "Standard deviation for recall using cross validation: 0.17346824507204456\n",
      "Mean accuracy using cross validation: 0.9351234567901235\n",
      "Standard deviation for accuracy using cross validation: 0.02768564969262246\n"
     ]
    }
   ],
   "source": [
    "# Use random forest to predict if a pokemon is legendary or not\n",
    "\n",
    "# Create a RandomForestClassifier model\n",
    "model = RandomForestClassifier(random_state=1)\n",
    "\n",
    "# Create X and y\n",
    "X = pokemon[['hp', 'attack', 'defense', 'sp_attack', 'sp_defense', 'speed']]\n",
    "y = pokemon['is_legendary']\n",
    "\n",
    "# Split the data into train and test sets\n",
    "X_train, X_test, y_train, y_test = train_test_split(X, y, test_size=0.1, random_state=1)\n",
    "\n",
    "# Fit the model to the training data\n",
    "model.fit(X_train, y_train)\n",
    "\n",
    "# Predict on the test data: y_pred\n",
    "y_pred = model.predict(X_test)\n",
    "\n",
    "# Create a confusion matrix\n",
    "cm = confusion_matrix(y_test, y_pred)\n",
    "\n",
    "# Print the confusion matrix with labels for prediction and actual values\n",
    "print(\"Confusion matrix for a single model\")\n",
    "print(pd.DataFrame(cm, index=['Actual Not Legendary', 'Actual Legendary'], columns=['Predicted Not Legendary', 'Predicted Legendary']))\n",
    "\n",
    "# Print a header\n",
    "print('\\nMetrics for Random Forest Model using cross validation')\n",
    "\n",
    "# Create a KFold object with 10 splits\n",
    "kf = KFold(n_splits=10, shuffle=True, random_state=0)\n",
    "\n",
    "# Use cross_val_score to perform cross validation for precision and train the model\n",
    "scores = cross_val_score(model, X, y, scoring='precision', cv=kf)\n",
    "\n",
    "# Calculate the mean and standard deviation of the scores\n",
    "print(\"Mean precision using cross validation:\", np.mean(scores))\n",
    "print(\"Standard deviation for precision using cross validation:\", np.std(scores))\n",
    "\n",
    "# Use cross_val_score to perform cross validation for recall and train the model\n",
    "scores = cross_val_score(model, X, y, scoring='recall', cv=kf)\n",
    "\n",
    "# Calculate the mean and standard deviation of the scores\n",
    "print(\"Mean recall using cross validation:\", np.mean(scores))\n",
    "print(\"Standard deviation for recall using cross validation:\", np.std(scores))\n",
    "\n",
    "# Use cross_val_score to perform cross validation for accuracy and train the model\n",
    "scores = cross_val_score(model, X, y, scoring='accuracy', cv=kf)\n",
    "\n",
    "# Calculate the mean and standard deviation of the scores\n",
    "print(\"Mean accuracy using cross validation:\", np.mean(scores))\n",
    "print(\"Standard deviation for accuracy using cross validation:\", np.std(scores))"
   ]
  },
  {
   "attachments": {},
   "cell_type": "markdown",
   "metadata": {},
   "source": [
    "Zoals aan bovenstaande metrieken te zien is, is het lastig om een Pokémon als legendary te voorspellen. Ondanks dat de precision en accuracy relatief hoog zijn, is de recall slechts 43%. Dat wil zeggen dat het model niet vaak een Pokémon als legendary voorspelt, terwijl deze wel legendary is.\n",
    "\n",
    "Hieronder is een voorbeeld te zien van random forests, waarbij minder features worden gebruikt. Er wordt nu alleen gebruik gemaakt van `hp`, `sp_attack` en `sp_defense`."
   ]
  },
  {
   "cell_type": "code",
   "execution_count": 78,
   "metadata": {},
   "outputs": [
    {
     "name": "stdout",
     "output_type": "stream",
     "text": [
      "Confusion matrix for a single model\n",
      "                      Predicted Not Legendary  Predicted Legendary\n",
      "Actual Not Legendary                       66                    3\n",
      "Actual Legendary                            9                    3\n",
      "\n",
      "Metrics for Random Forest Model using cross validation\n",
      "Mean precision using cross validation: 0.6783333333333333\n",
      "Standard deviation for precision using cross validation: 0.21344398172198092\n",
      "Mean recall using cross validation: 0.38519841269841265\n",
      "Standard deviation for recall using cross validation: 0.12779281805400064\n",
      "Mean accuracy using cross validation: 0.9289043209876542\n",
      "Standard deviation for accuracy using cross validation: 0.025326613048969562\n"
     ]
    }
   ],
   "source": [
    "# Use random forest to predict if a pokemon is legendary or not\n",
    "\n",
    "# Create a RandomForestClassifier model\n",
    "model = RandomForestClassifier(random_state=1)\n",
    "\n",
    "# Create X and y\n",
    "X = pokemon[['hp', 'sp_attack', 'sp_defense']]\n",
    "y = pokemon['is_legendary']\n",
    "\n",
    "# Split the data into train and test sets\n",
    "X_train, X_test, y_train, y_test = train_test_split(X, y, test_size=0.1, random_state=1)\n",
    "\n",
    "# Fit the model to the training data\n",
    "model.fit(X_train, y_train)\n",
    "\n",
    "# Predict on the test data: y_pred\n",
    "y_pred = model.predict(X_test)\n",
    "\n",
    "# Create a confusion matrix\n",
    "cm = confusion_matrix(y_test, y_pred)\n",
    "\n",
    "# Print the confusion matrix with labels for prediction and actual values\n",
    "print(\"Confusion matrix for a single model\")\n",
    "print(pd.DataFrame(cm, index=['Actual Not Legendary', 'Actual Legendary'], columns=['Predicted Not Legendary', 'Predicted Legendary']))\n",
    "\n",
    "# Print a header\n",
    "print('\\nMetrics for Random Forest Model using cross validation')\n",
    "\n",
    "# Create a KFold object with 10 splits\n",
    "kf = KFold(n_splits=10, shuffle=True, random_state=0)\n",
    "\n",
    "# Use cross_val_score to perform cross validation for precision and train the model\n",
    "scores = cross_val_score(model, X, y, scoring='precision', cv=kf)\n",
    "\n",
    "# Calculate the mean and standard deviation of the scores\n",
    "print(\"Mean precision using cross validation:\", np.mean(scores))\n",
    "print(\"Standard deviation for precision using cross validation:\", np.std(scores))\n",
    "\n",
    "# Use cross_val_score to perform cross validation for recall and train the model\n",
    "scores = cross_val_score(model, X, y, scoring='recall', cv=kf)\n",
    "\n",
    "# Calculate the mean and standard deviation of the scores\n",
    "print(\"Mean recall using cross validation:\", np.mean(scores))\n",
    "print(\"Standard deviation for recall using cross validation:\", np.std(scores))\n",
    "\n",
    "# Use cross_val_score to perform cross validation for accuracy and train the model\n",
    "scores = cross_val_score(model, X, y, scoring='accuracy', cv=kf)\n",
    "\n",
    "# Calculate the mean and standard deviation of the scores\n",
    "print(\"Mean accuracy using cross validation:\", np.mean(scores))\n",
    "print(\"Standard deviation for accuracy using cross validation:\", np.std(scores))"
   ]
  },
  {
   "attachments": {},
   "cell_type": "markdown",
   "metadata": {},
   "source": [
    "Zoals hierboven te zien is, is het model minder goed in het voorspellen van legendary Pokémon. Dat betekent dat minder features in dit geval niet beter werkt. Dat is anders, dan wat te zien was bij multiple linear regression."
   ]
  },
  {
   "attachments": {},
   "cell_type": "markdown",
   "metadata": {},
   "source": [
    "# Neural Networks\n",
    "Neural networks zijn een vorm van machine learning, waarbij een netwerk van neuronen wordt gebruikt om voorspellingen te maken. De neuronen in het netwerk worden verbonden met elkaar, waardoor het netwerk een bepaalde structuur krijgt. Deze structuur bestaat uit een aantal lagen. Iedere laag bestaat op zijn beurt weer uit een aantal neuronen. Een netwerk bestaat altijd uit een input layer en een output layer. De input layer bestaat uit de features van de dataset. De output layer bestaat uit de waardes die voorspeld moeten worden. Daartussen staan de zogenoemde hidden layers. Het aantal hidden layers en het aantal neuronen per laag kan variëren.\n",
    "\n",
    "Voor Pokémon wordt gebruik gemaakt van neural networks om te voorspellen of een Pokémon legendary is of niet. Hiervoor worden `hp`, `attack`, `defense`, `sp_attack`, `sp_defense`, `speed`, `weight_kg` en `height_m` gebruikt."
   ]
  },
  {
   "cell_type": "code",
   "execution_count": 81,
   "metadata": {},
   "outputs": [
    {
     "name": "stdout",
     "output_type": "stream",
     "text": [
      "Confusion matrix for a single model\n",
      "                      Predicted Not Legendary  Predicted Legendary\n",
      "Actual Not Legendary                       68                    1\n",
      "Actual Legendary                           11                    1\n",
      "\n",
      "Metrics for Neural Network Model using cross validation\n",
      "Mean precision using cross validation: 0.6464285714285715\n",
      "Standard deviation for precision using cross validation: 0.2547758118144544\n",
      "Mean recall using cross validation: 0.30246031746031743\n",
      "Standard deviation for recall using cross validation: 0.12009405170417108\n",
      "Mean accuracy using cross validation: 0.9163580246913579\n",
      "Standard deviation for accuracy using cross validation: 0.023735149858812796\n"
     ]
    }
   ],
   "source": [
    "# Use neural network to predict if a pokemon is legendary or not\n",
    "\n",
    "# Create a MLPClassifier model\n",
    "model = MLPClassifier(random_state=1)\n",
    "\n",
    "# Create X and y\n",
    "X = pokemon[['hp', 'attack', 'defense', 'sp_attack', 'sp_defense', 'speed', 'weight_kg', 'height_m']]\n",
    "y = pokemon['is_legendary']\n",
    "\n",
    "# Split the data into train and test sets\n",
    "X_train, X_test, y_train, y_test = train_test_split(X, y, test_size=0.1, random_state=1)\n",
    "\n",
    "# Fit the model to the training data\n",
    "model.fit(X_train, y_train)\n",
    "\n",
    "# Predict on the test data: y_pred\n",
    "y_pred = model.predict(X_test)\n",
    "\n",
    "# Create a confusion matrix\n",
    "cm = confusion_matrix(y_test, y_pred)\n",
    "\n",
    "# Print the confusion matrix with labels for prediction and actual values\n",
    "print(\"Confusion matrix for a single model\")\n",
    "print(pd.DataFrame(cm, index=['Actual Not Legendary', 'Actual Legendary'], columns=['Predicted Not Legendary', 'Predicted Legendary']))\n",
    "\n",
    "# Print a header\n",
    "print('\\nMetrics for Neural Network Model using cross validation')\n",
    "\n",
    "# Create a KFold object with 10 splits\n",
    "kf = KFold(n_splits=10, shuffle=True, random_state=0)\n",
    "\n",
    "# Use cross_val_score to perform cross validation for precision and train the model\n",
    "scores = cross_val_score(model, X, y, scoring='precision', cv=kf)\n",
    "\n",
    "# Calculate the mean and standard deviation of the scores\n",
    "print(\"Mean precision using cross validation:\", np.mean(scores))\n",
    "print(\"Standard deviation for precision using cross validation:\", np.std(scores))\n",
    "\n",
    "# Use cross_val_score to perform cross validation for recall and train the model\n",
    "scores = cross_val_score(model, X, y, scoring='recall', cv=kf)\n",
    "\n",
    "# Calculate the mean and standard deviation of the scores\n",
    "print(\"Mean recall using cross validation:\", np.mean(scores))\n",
    "print(\"Standard deviation for recall using cross validation:\", np.std(scores))\n",
    "\n",
    "# Use cross_val_score to perform cross validation for accuracy and train the model\n",
    "scores = cross_val_score(model, X, y, scoring='accuracy', cv=kf)\n",
    "\n",
    "# Calculate the mean and standard deviation of the scores\n",
    "print(\"Mean accuracy using cross validation:\", np.mean(scores))\n",
    "print(\"Standard deviation for accuracy using cross validation:\", np.std(scores))\n"
   ]
  },
  {
   "attachments": {},
   "cell_type": "markdown",
   "metadata": {},
   "source": [
    "Zoals te zien is, is het model niet goed in staat om een Pokémon als legendary te voorspellen. De recall is laag, waardoor het model vaak een Pokémon als niet legendary voorspelt, terwijl deze wel legendary is. De precision is slechts 64%, waardoor het model vaak een Pokémon als legendary voorspelt, terwijl deze niet legendary is. De accuracy is relatief hoog, maar dat komt doordat het model vaak een Pokémon als niet legendary voorspelt. Daardoor is het model vaak juist, maar is het model niet goed in het voorspellen van legendary Pokémon.\n",
    "\n",
    "Hieronder is een voorbeeld te zien van neural networks, waarbij minder features worden gebruikt. Er wordt nu enkel nog gebruikt gemaakt van `hp`, `sp_attack` en `sp_defense`."
   ]
  },
  {
   "cell_type": "code",
   "execution_count": 80,
   "metadata": {},
   "outputs": [
    {
     "name": "stdout",
     "output_type": "stream",
     "text": [
      "Confusion matrix for a single model\n",
      "                      Predicted Not Legendary  Predicted Legendary\n",
      "Actual Not Legendary                       69                    0\n",
      "Actual Legendary                           12                    0\n",
      "\n",
      "Metrics for Neural Network Model using cross validation\n",
      "Mean precision using cross validation: 0.16666666666666666\n",
      "Standard deviation for precision using cross validation: 0.31622776601683794\n",
      "Mean recall using cross validation: 0.0667857142857143\n",
      "Standard deviation for recall using cross validation: 0.12305683521803067\n",
      "Mean accuracy using cross validation: 0.9063888888888888\n",
      "Standard deviation for accuracy using cross validation: 0.03215630230262457\n"
     ]
    }
   ],
   "source": [
    "# Use neural network to predict if a pokemon is legendary or not\n",
    "\n",
    "# Create a MLPClassifier model\n",
    "model = MLPClassifier(max_iter=500, random_state=1)\n",
    "\n",
    "# Create X and y\n",
    "X = pokemon[['hp', 'sp_attack', 'sp_defense']]\n",
    "y = pokemon['is_legendary']\n",
    "\n",
    "# Split the data into train and test sets\n",
    "X_train, X_test, y_train, y_test = train_test_split(X, y, test_size=0.1, random_state=1)\n",
    "\n",
    "# Fit the model to the training data\n",
    "model.fit(X_train, y_train)\n",
    "\n",
    "# Predict on the test data: y_pred\n",
    "y_pred = model.predict(X_test)\n",
    "\n",
    "# Create a confusion matrix\n",
    "cm = confusion_matrix(y_test, y_pred)\n",
    "\n",
    "# Print the confusion matrix with labels for prediction and actual values\n",
    "print(\"Confusion matrix for a single model\")\n",
    "print(pd.DataFrame(cm, index=['Actual Not Legendary', 'Actual Legendary'], columns=['Predicted Not Legendary', 'Predicted Legendary']))\n",
    "\n",
    "# Print a header\n",
    "print('\\nMetrics for Neural Network Model using cross validation')\n",
    "\n",
    "# Create a KFold object with 10 splits\n",
    "kf = KFold(n_splits=10, shuffle=True, random_state=0)\n",
    "\n",
    "# Use cross_val_score to perform cross validation for precision and train the model\n",
    "scores = cross_val_score(model, X, y, scoring='precision', cv=kf)\n",
    "\n",
    "# Calculate the mean and standard deviation of the scores\n",
    "print(\"Mean precision using cross validation:\", np.mean(scores))\n",
    "print(\"Standard deviation for precision using cross validation:\", np.std(scores))\n",
    "\n",
    "# Use cross_val_score to perform cross validation for recall and train the model\n",
    "scores = cross_val_score(model, X, y, scoring='recall', cv=kf)\n",
    "\n",
    "# Calculate the mean and standard deviation of the scores\n",
    "print(\"Mean recall using cross validation:\", np.mean(scores))\n",
    "print(\"Standard deviation for recall using cross validation:\", np.std(scores))\n",
    "\n",
    "# Use cross_val_score to perform cross validation for accuracy and train the model\n",
    "scores = cross_val_score(model, X, y, scoring='accuracy', cv=kf)\n",
    "\n",
    "# Calculate the mean and standard deviation of the scores\n",
    "print(\"Mean accuracy using cross validation:\", np.mean(scores))\n",
    "print(\"Standard deviation for accuracy using cross validation:\", np.std(scores))\n"
   ]
  },
  {
   "attachments": {},
   "cell_type": "markdown",
   "metadata": {},
   "source": [
    "Zoals te zien is het neural network nog minder goed in staat om te voorspellen of een Pokémon legendary is of niet. De precision en recall zijn beide slechts rond de 10%. De accuracy is dan wel 91%, maar dit komt omdat het model een groot deel van de Pokémon als niet legendary voorspelt en 91% van de Pokémon in de testset niet legendary is."
   ]
  }
 ],
 "metadata": {
  "kernelspec": {
   "display_name": "bd04",
   "language": "python",
   "name": "python3"
  },
  "language_info": {
   "codemirror_mode": {
    "name": "ipython",
    "version": 3
   },
   "file_extension": ".py",
   "mimetype": "text/x-python",
   "name": "python",
   "nbconvert_exporter": "python",
   "pygments_lexer": "ipython3",
   "version": "3.10.8"
  },
  "orig_nbformat": 4,
  "vscode": {
   "interpreter": {
    "hash": "746eeb6e633415d5b3d0e953c63636e88c882c8cb8aac1f06b2ad8dd2e611585"
   }
  }
 },
 "nbformat": 4,
 "nbformat_minor": 2
}
